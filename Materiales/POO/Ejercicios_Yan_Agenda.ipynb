{
 "cells": [
  {
   "cell_type": "markdown",
   "metadata": {},
   "source": [
    "# Agenda\n",
    "Realizar una clase que administre una `agenda`. Se debe almacenar para cada contacto el nombre, el teléfono y el email. Además deberá mostrar un menú con las siguientes opciones:\n",
    "\n",
    "- Añadir contacto\n",
    "- Lista de contactos\n",
    "- Buscar contacto\n",
    "- Editar contacto\n",
    "- Cerrar agenda"
   ]
  },
  {
   "cell_type": "code",
   "execution_count": 2,
   "metadata": {},
   "outputs": [],
   "source": [
    "class Administrar_agenda:\n",
    "    def __init(self,agenda):\n",
    "        __agenda = None\n",
    "        self.__agenda = agenda\n",
    "    def añadir_contacto(self):\n",
    "        nombre = input('Ingrese un nombre: ')\n",
    "        "
   ]
  },
  {
   "cell_type": "markdown",
   "metadata": {},
   "source": [
    "# Banco\n",
    "En un banco tienen clientes que pueden hacer **depósitos** y **extracciones** de dinero. El banco requiere también al final del día calcular la cantidad de dinero que se ha depositado.\n",
    "\n",
    "Se deberán crear **dos clases**, la clase `cliente` y la clase `banco`. La clase **cliente** tendrá los atributos `nombre` y `cantidad` y los métodos `__init__`, `depositar`, `extraer`, `mostrar_total`.\n",
    "\n",
    "La clase **banco** tendrá como atributos 3 objetos de la clase cliente y los métodos `__init__`, `operar` y `deposito_total`."
   ]
  },
  {
   "cell_type": "code",
   "execution_count": 25,
   "metadata": {},
   "outputs": [],
   "source": [
    "class Cliente:\n",
    "    __cantidad = None\n",
    "    __nombre = None\n",
    "    def __init__(self, nombre, cantidad):\n",
    "        self.__nombre = nombre\n",
    "        self.__cantidad = cantidad\n",
    "    #-------------------------------------------------------------------------------------------------------------#\n",
    "    #-------------------------------------------------------------------------------------------------------------#\n",
    "    def depositar(self):\n",
    "        cantidad =int(input('Indique la cantidad a ingresar: '))\n",
    "        if (cantidad <= 6000 and cantidad > 0):\n",
    "            self.cantidad += cantidad\n",
    "        else:\n",
    "            print('La cantidad indicada no es la correcta')\n",
    "    def extraer(self):\n",
    "        cantidad =int(input('Indique la cantidad que quiere extraer: '))\n",
    "        \n",
    "    \n",
    "    \n",
    "    \n",
    "    \n",
    "    \n",
    "    \n",
    "    \n",
    "    \n",
    "    \n",
    "    \n",
    "    \n",
    "#class Banco:"
   ]
  },
  {
   "cell_type": "code",
   "execution_count": 26,
   "metadata": {},
   "outputs": [],
   "source": [
    "yan = Cliente('Yan', 56)"
   ]
  },
  {
   "cell_type": "code",
   "execution_count": 14,
   "metadata": {},
   "outputs": [],
   "source": [
    "cantidad =int(input('Indique la cantidad a ingresar: '))\n",
    "if (cantidad <= 6000 and cantidad > 0):\n",
    "    cantidad1 += cantidad\n",
    "else:\n",
    "    print('La cantidad indicada no es la correcta')"
   ]
  },
  {
   "cell_type": "code",
   "execution_count": 15,
   "metadata": {},
   "outputs": [
    {
     "data": {
      "text/plain": [
       "30"
      ]
     },
     "execution_count": 15,
     "metadata": {},
     "output_type": "execute_result"
    }
   ],
   "source": [
    "cantidad"
   ]
  },
  {
   "cell_type": "code",
   "execution_count": 9,
   "metadata": {},
   "outputs": [
    {
     "name": "stdout",
     "output_type": "stream",
     "text": [
      "567\n",
      "-------------------------------------------------------------\n",
      "<class 'int'>\n"
     ]
    }
   ],
   "source": [
    "cantidad =int(input('Indique la cantidad a ingresar: '))\n",
    "print(cantidad)\n",
    "print('-------------------------------------------------------------')\n",
    "print(type(cantidad))"
   ]
  },
  {
   "cell_type": "markdown",
   "metadata": {},
   "source": [
    "# Cuentas ahorro\n",
    "Desarrollar un programa que conste de una **clase padre** `Cuenta` y **dos subclases** `PlazoFijo` y `CajaAhorro`. Definir los **atributos** `titular` y `cantidad` y un **método** para `imprimir` los datos en la clase Cuenta. La **clase CajaAhorro** tendrá un método para heredar los datos y uno para mostrar la información.\n",
    "\n",
    "La **clase PlazoFijo** tendrá dos atributos propios, `plazo` e `interés`. Tendrá un método para obtener el importe del interés (cantidad*interés/100) y otro método para mostrar la información, datos del titular plazo, interés y total de interés.\n",
    "\n",
    "Crear al menos un objeto de cada subclase."
   ]
  },
  {
   "cell_type": "code",
   "execution_count": null,
   "metadata": {},
   "outputs": [],
   "source": []
  }
 ],
 "metadata": {
  "kernelspec": {
   "display_name": "base",
   "language": "python",
   "name": "python3"
  },
  "language_info": {
   "codemirror_mode": {
    "name": "ipython",
    "version": 3
   },
   "file_extension": ".py",
   "mimetype": "text/x-python",
   "name": "python",
   "nbconvert_exporter": "python",
   "pygments_lexer": "ipython3",
   "version": "3.12.2"
  }
 },
 "nbformat": 4,
 "nbformat_minor": 2
}
