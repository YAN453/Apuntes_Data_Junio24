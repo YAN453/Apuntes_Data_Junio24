{
 "cells": [
  {
   "cell_type": "code",
   "execution_count": 523,
   "metadata": {},
   "outputs": [],
   "source": [
    "import selenium\n",
    "import time\n",
    "import random\n",
    "from bs4 import BeautifulSoup as bs"
   ]
  },
  {
   "cell_type": "code",
   "execution_count": 524,
   "metadata": {},
   "outputs": [],
   "source": [
    "import os\n",
    "from dotenv import load_dotenv"
   ]
  },
  {
   "cell_type": "code",
   "execution_count": 525,
   "metadata": {},
   "outputs": [
    {
     "data": {
      "text/plain": [
       "True"
      ]
     },
     "execution_count": 525,
     "metadata": {},
     "output_type": "execute_result"
    }
   ],
   "source": [
    "load_dotenv()"
   ]
  },
  {
   "cell_type": "code",
   "execution_count": 526,
   "metadata": {},
   "outputs": [],
   "source": [
    "from selenium import webdriver\n",
    "from webdriver_manager.chrome import ChromeDriverManager # sustituye al archivo\n",
    "from selenium.webdriver.chrome.options import Options # opciones de chrome\n",
    "from selenium.webdriver.common.by import By # By es para buscar por tag, clase, id...\n",
    "from selenium.webdriver.support.ui import WebDriverWait   # para meter esperaras\n",
    "from selenium.webdriver.support import expected_conditions as EC   # para esperar ciertos eventos\n",
    "from selenium.webdriver import ActionChains # para hacer acciones con el ratón\n",
    "import time\n",
    "import random\n",
    "import selenium.webdriver.common.keys as Keys # para simular teclas"
   ]
  },
  {
   "cell_type": "code",
   "execution_count": 527,
   "metadata": {},
   "outputs": [],
   "source": [
    "from selenium.webdriver.common.by import By"
   ]
  },
  {
   "cell_type": "code",
   "execution_count": 528,
   "metadata": {},
   "outputs": [],
   "source": [
    "#Opciones de chrome\n",
    "opciones = webdriver.ChromeOptions()\n",
    "#opciones.add_argument('--start-maximized')\n",
    "opciones.add_argument('window-size=775,1400')\n",
    "opciones.add_argument('--disable-extensions')\n",
    "opciones.add_argument('--disable-blink-features=AutomationControlled')\n",
    "opciones.add_argument('--no-sandbox')\n",
    "opciones.add_experimental_option('useAutomationExtension', False)\n",
    "opciones.add_experimental_option('excludeSwitches', ['enable-automation'])\n",
    "\n",
    "# guardar las cookies\n",
    "# opciones.add_argument('user-data-dir=cookies')    # mantiene las cookies\n",
    "opciones.add_argument('--incognito') # modo incognito"
   ]
  },
  {
   "cell_type": "code",
   "execution_count": 529,
   "metadata": {},
   "outputs": [],
   "source": [
    "url = 'https://docs.google.com/forms/d/e/1FAIpQLSej_M_4bAB4m_L8KcFoGPWWKBYrkZ9TEktwtWQ-7j2pIJNEkA/viewform'"
   ]
  },
  {
   "cell_type": "code",
   "execution_count": 530,
   "metadata": {},
   "outputs": [
    {
     "data": {
      "text/plain": [
       "'yandry.feijoo@students.gammatech.school'"
      ]
     },
     "execution_count": 530,
     "metadata": {},
     "output_type": "execute_result"
    }
   ],
   "source": [
    "correo = os.getenv('usuario_correo')\n",
    "correo"
   ]
  },
  {
   "cell_type": "code",
   "execution_count": 531,
   "metadata": {},
   "outputs": [],
   "source": [
    "contra = os.getenv('contrasenia_correo')"
   ]
  },
  {
   "cell_type": "code",
   "execution_count": 532,
   "metadata": {},
   "outputs": [],
   "source": [
    "driver = webdriver.Chrome(options = opciones)\n",
    "driver.get(url)"
   ]
  },
  {
   "cell_type": "code",
   "execution_count": 533,
   "metadata": {},
   "outputs": [],
   "source": [
    "escribir_correo = WebDriverWait(driver,10).until(EC.presence_of_element_located((By.XPATH, '//*[@id=\"identifierId\"]')))\n",
    "for e in correo:\n",
    "    escribir_correo.send_keys(e)\n",
    "    time.sleep(random.uniform(0.05, 0.10))\n",
    "time.sleep(0.8)"
   ]
  },
  {
   "cell_type": "code",
   "execution_count": 534,
   "metadata": {},
   "outputs": [],
   "source": [
    "mandar_correo = driver.find_element(By.XPATH, '//*[@id=\"identifierNext\"]/div/button')\n",
    "mandar_correo.click()\n",
    "time.sleep(0.5)"
   ]
  },
  {
   "cell_type": "code",
   "execution_count": 535,
   "metadata": {},
   "outputs": [],
   "source": [
    "escribir_contra = WebDriverWait(driver,10).until(EC.presence_of_element_located((By.XPATH, '//*[@id=\"password\"]/div[1]/div/div[1]/input')))\n",
    "for e in contra:\n",
    "    escribir_contra.send_keys(e)\n",
    "    time.sleep(random.uniform(0.05, 0.10))"
   ]
  },
  {
   "cell_type": "code",
   "execution_count": 536,
   "metadata": {},
   "outputs": [],
   "source": [
    "enviar_contra = driver.find_element(By.XPATH , '//*[@id=\"passwordNext\"]/div/button')\n",
    "enviar_contra.click()"
   ]
  },
  {
   "cell_type": "code",
   "execution_count": 537,
   "metadata": {},
   "outputs": [],
   "source": [
    "marcar_casilla = WebDriverWait(driver,10).until(EC.presence_of_element_located((By.ID, 'i5')))\n",
    "marcar_casilla.click()\n",
    "time.sleep(0.5)"
   ]
  },
  {
   "cell_type": "code",
   "execution_count": 538,
   "metadata": {},
   "outputs": [],
   "source": [
    "puedo = WebDriverWait(driver,10).until(EC.presence_of_element_located((By. ID, 'i21')))\n",
    "puedo.click()\n",
    "time.sleep(0.5)"
   ]
  },
  {
   "cell_type": "code",
   "execution_count": 539,
   "metadata": {},
   "outputs": [],
   "source": [
    "#He intentado cambiar al iframe para encontrar el src del video de youtube pero no se porque no lo encuentra\n",
    "#   video_youtube = driver.find_element(By.XPATH, '//*[@id=\"mG61Hd\"]/div[2]/div/div[2]/div[3]/div/div[2]/iframe')\n",
    "#   driver.switch_to.frame(video_youtube)"
   ]
  },
  {
   "cell_type": "code",
   "execution_count": 540,
   "metadata": {},
   "outputs": [],
   "source": [
    "driver.switch_to.default_content()"
   ]
  },
  {
   "cell_type": "code",
   "execution_count": 542,
   "metadata": {},
   "outputs": [],
   "source": [
    "boton_siguiente = driver.find_element(By. XPATH, '//*[@id=\"mG61Hd\"]/div[2]/div/div[3]/div[1]/div[1]/div')\n",
    "boton_siguiente.click()"
   ]
  },
  {
   "cell_type": "code",
   "execution_count": 545,
   "metadata": {},
   "outputs": [],
   "source": [
    "cuanto_te_gusta = WebDriverWait(driver,10).until(EC.presence_of_element_located((By.CLASS_NAME, 'AB7Lab.Id5V1')))\n",
    "cuanto_te_gusta.click()\n",
    "time.sleep(0.03)"
   ]
  },
  {
   "cell_type": "code",
   "execution_count": 550,
   "metadata": {},
   "outputs": [],
   "source": [
    "boton1x1 = driver.find_element(By. CLASS_NAME, 'uHMk6b.fsHoPb')\n",
    "boton1x1.click()\n",
    "time.sleep(0.02)"
   ]
  },
  {
   "cell_type": "code",
   "execution_count": 553,
   "metadata": {},
   "outputs": [],
   "source": [
    "boton2x2 = driver.find_element(By. CLASS_NAME, 'uVccjd.aiSeRd.wGQFbe.BJHAP')\n",
    "boton2x2.click()"
   ]
  },
  {
   "cell_type": "code",
   "execution_count": 522,
   "metadata": {},
   "outputs": [],
   "source": [
    "#driver.quit()"
   ]
  }
 ],
 "metadata": {
  "kernelspec": {
   "display_name": "base",
   "language": "python",
   "name": "python3"
  },
  "language_info": {
   "codemirror_mode": {
    "name": "ipython",
    "version": 3
   },
   "file_extension": ".py",
   "mimetype": "text/x-python",
   "name": "python",
   "nbconvert_exporter": "python",
   "pygments_lexer": "ipython3",
   "version": "3.12.2"
  }
 },
 "nbformat": 4,
 "nbformat_minor": 2
}
