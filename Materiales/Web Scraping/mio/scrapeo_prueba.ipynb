{
 "cells": [
  {
   "cell_type": "markdown",
   "metadata": {},
   "source": [
    "# Scrapeo de books to scrap"
   ]
  },
  {
   "cell_type": "code",
   "execution_count": 483,
   "metadata": {},
   "outputs": [],
   "source": [
    "from bs4 import BeautifulSoup as bs\n",
    "import pandas as pd\n",
    "import requests as req\n"
   ]
  },
  {
   "cell_type": "code",
   "execution_count": 484,
   "metadata": {},
   "outputs": [],
   "source": [
    "html = req.get('https://books.toscrape.com').content\n",
    "sopa = bs(html,'html.parser')"
   ]
  },
  {
   "cell_type": "code",
   "execution_count": 485,
   "metadata": {},
   "outputs": [],
   "source": [
    "pagina = sopa.find('ol', {'class': 'row'})"
   ]
  },
  {
   "cell_type": "code",
   "execution_count": 486,
   "metadata": {},
   "outputs": [
    {
     "data": {
      "text/plain": [
       "20"
      ]
     },
     "execution_count": 486,
     "metadata": {},
     "output_type": "execute_result"
    }
   ],
   "source": [
    "libros = pagina.find_all('li', {'class': 'col-xs-6 col-sm-4 col-md-3 col-lg-3'})\n",
    "len(libros)"
   ]
  },
  {
   "cell_type": "code",
   "execution_count": 487,
   "metadata": {},
   "outputs": [
    {
     "data": {
      "text/plain": [
       "'catalogue/a-light-in-the-attic_1000/index.html'"
      ]
     },
     "execution_count": 487,
     "metadata": {},
     "output_type": "execute_result"
    }
   ],
   "source": [
    "libros[0].find('a').attrs['href']\n"
   ]
  },
  {
   "cell_type": "code",
   "execution_count": 508,
   "metadata": {},
   "outputs": [],
   "source": [
    "completar = 'https://books.toscrape.com/'"
   ]
  },
  {
   "cell_type": "code",
   "execution_count": 510,
   "metadata": {},
   "outputs": [
    {
     "data": {
      "text/plain": [
       "[]"
      ]
     },
     "execution_count": 510,
     "metadata": {},
     "output_type": "execute_result"
    }
   ],
   "source": [
    "libros[0].find_all('li', {'class': 'col-xs-6 col-sm-4 col-md-3 col-lg-3'})"
   ]
  },
  {
   "cell_type": "code",
   "execution_count": 479,
   "metadata": {},
   "outputs": [
    {
     "data": {
      "text/plain": [
       "'https://books.toscrape.com/catalogue/a-light-in-the-attic_1000/index.html'"
      ]
     },
     "execution_count": 479,
     "metadata": {},
     "output_type": "execute_result"
    }
   ],
   "source": [
    "link_bueno = completar + libros[0].find('a').attrs['href']\n",
    "link_bueno"
   ]
  },
  {
   "cell_type": "code",
   "execution_count": 488,
   "metadata": {},
   "outputs": [],
   "source": [
    "links_libros = []\n",
    "for libro in libros:\n",
    "    libro.find('a').attrs['href']\n",
    "    links_libros.append(libro.find('a').attrs['href'])"
   ]
  },
  {
   "cell_type": "code",
   "execution_count": 481,
   "metadata": {},
   "outputs": [
    {
     "data": {
      "text/plain": [
       "['catalogue/a-light-in-the-attic_1000/index.html',\n",
       " 'catalogue/tipping-the-velvet_999/index.html',\n",
       " 'catalogue/soumission_998/index.html',\n",
       " 'catalogue/sharp-objects_997/index.html',\n",
       " 'catalogue/sapiens-a-brief-history-of-humankind_996/index.html',\n",
       " 'catalogue/the-requiem-red_995/index.html',\n",
       " 'catalogue/the-dirty-little-secrets-of-getting-your-dream-job_994/index.html',\n",
       " 'catalogue/the-coming-woman-a-novel-based-on-the-life-of-the-infamous-feminist-victoria-woodhull_993/index.html',\n",
       " 'catalogue/the-boys-in-the-boat-nine-americans-and-their-epic-quest-for-gold-at-the-1936-berlin-olympics_992/index.html',\n",
       " 'catalogue/the-black-maria_991/index.html',\n",
       " 'catalogue/starving-hearts-triangular-trade-trilogy-1_990/index.html',\n",
       " 'catalogue/shakespeares-sonnets_989/index.html',\n",
       " 'catalogue/set-me-free_988/index.html',\n",
       " 'catalogue/scott-pilgrims-precious-little-life-scott-pilgrim-1_987/index.html',\n",
       " 'catalogue/rip-it-up-and-start-again_986/index.html',\n",
       " 'catalogue/our-band-could-be-your-life-scenes-from-the-american-indie-underground-1981-1991_985/index.html',\n",
       " 'catalogue/olio_984/index.html',\n",
       " 'catalogue/mesaerion-the-best-science-fiction-stories-1800-1849_983/index.html',\n",
       " 'catalogue/libertarianism-for-beginners_982/index.html',\n",
       " 'catalogue/its-only-the-himalayas_981/index.html']"
      ]
     },
     "execution_count": 481,
     "metadata": {},
     "output_type": "execute_result"
    }
   ],
   "source": [
    "links_libros"
   ]
  },
  {
   "cell_type": "code",
   "execution_count": 489,
   "metadata": {},
   "outputs": [],
   "source": [
    "htmls = []\n",
    "for link in links_libros:\n",
    "    htmls.append(req.get(completar + link).text)"
   ]
  },
  {
   "cell_type": "code",
   "execution_count": 493,
   "metadata": {},
   "outputs": [],
   "source": [
    "sopas1 = []\n",
    "for html in htmls:\n",
    "    sopas1.append(bs(html,'html.parser'))"
   ]
  },
  {
   "cell_type": "code",
   "execution_count": 504,
   "metadata": {},
   "outputs": [],
   "source": [
    "lista = []\n",
    "for e in sopas1:\n",
    "    dicc = {}    \n",
    "#Titulo\n",
    "    titulo = e.find('h1').text\n",
    "    dicc['Titulo'] = titulo\n",
    "#Categoria\n",
    "    categoria = e.find_all('li')[2].text.replace('\\n', '')\n",
    "    dicc['Categoria'] = categoria\n",
    "#Precio\n",
    "    precio = e.find('p', {'class': 'price_color'}).text.split('£')[1]\n",
    "    dicc['Precio/£'] = precio \n",
    "#Esta es stock?\n",
    "    stock = e.find('p', {'class': 'instock availability'}).text.strip().split('(')[0].strip()\n",
    "    dicc['Stock?'] = stock\n",
    "#Cuantos quedan?\n",
    "    cuantos_quedan = e.find('p', {'class': 'instock availability'}).text.strip().split('(')[1].replace(')','')\n",
    "    dicc['Quedan'] = cuantos_quedan    \n",
    "#Descripcion\n",
    "    descripcion = e.find_all('p')[3].text\n",
    "    dicc['Descripcion'] = descripcion\n",
    "#UPC\n",
    "    upc = e.find('td').text \n",
    "    dicc['UPC'] = upc\n",
    "#Precio sin impuestos\n",
    "    precio_sin = e.find_all('td')[2].text.split('£')[1]\n",
    "    dicc['Precio_sin_impuestos/£'] = precio_sin\n",
    "#Impuestos\n",
    "    impuestos = e.find_all('td')[4].text.replace('Â', '')\n",
    "    dicc['Impuestos'] = impuestos\n",
    "#Valoraciones\n",
    "    valoraciones = e.find_all('td')[6].text.replace('Â', '')\n",
    "    dicc['Valoraciones'] = valoraciones\n",
    "#Portadas\n",
    "    urls = e.find('img')['src'].split('..')[2]\n",
    "    dicc['Portadas'] = completar + urls\n",
    "#Apendeo todas las cosas que tengo para crear la lista de diccionarios\n",
    "    lista.append(dicc)\n",
    "#Y creo el df\n",
    "df =  pd.DataFrame(lista)"
   ]
  },
  {
   "cell_type": "code",
   "execution_count": 505,
   "metadata": {},
   "outputs": [],
   "source": [
    "#Paso el link a formlato html porque me va a venir mejor para que se vea en el df\n",
    "df = pd.DataFrame(lista)\n",
    "df['Portadas'] = df['Portadas'].apply(path_to_image_html)"
   ]
  },
  {
   "cell_type": "code",
   "execution_count": 506,
   "metadata": {},
   "outputs": [],
   "source": [
    "def mostrar_html(df):\n",
    "    return display(HTML(df.to_html(escape=False)))\n"
   ]
  },
  {
   "cell_type": "code",
   "execution_count": 507,
   "metadata": {},
   "outputs": [
    {
     "data": {
      "text/html": [
       "<table border=\"1\" class=\"dataframe\">\n",
       "  <thead>\n",
       "    <tr style=\"text-align: right;\">\n",
       "      <th></th>\n",
       "      <th>Titulo</th>\n",
       "      <th>Categoria</th>\n",
       "      <th>Precio/£</th>\n",
       "      <th>Stock?</th>\n",
       "      <th>Quedan</th>\n",
       "      <th>Descripcion</th>\n",
       "      <th>UPC</th>\n",
       "      <th>Precio_sin_impuestos/£</th>\n",
       "      <th>Impuestos</th>\n",
       "      <th>Valoraciones</th>\n",
       "      <th>Portadas</th>\n",
       "    </tr>\n",
       "  </thead>\n",
       "  <tbody>\n",
       "    <tr>\n",
       "      <th>0</th>\n",
       "      <td>A Light in the Attic</td>\n",
       "      <td>Poetry</td>\n",
       "      <td>51.77</td>\n",
       "      <td>In stock</td>\n",
       "      <td>22 available</td>\n",
       "      <td>It's hard to imagine a world without A Light in the Attic. This now-classic collection of poetry and...</td>\n",
       "      <td>a897fe39b1053632</td>\n",
       "      <td>51.77</td>\n",
       "      <td>£0.00</td>\n",
       "      <td>0</td>\n",
       "      <td><img src=\"https://books.toscrape.com//media/cache/fe/72/fe72f0532301ec28892ae79a629a293c.jpg\" width=\"100\" ></td>\n",
       "    </tr>\n",
       "    <tr>\n",
       "      <th>1</th>\n",
       "      <td>Tipping the Velvet</td>\n",
       "      <td>Historical Fiction</td>\n",
       "      <td>53.74</td>\n",
       "      <td>In stock</td>\n",
       "      <td>20 available</td>\n",
       "      <td>\"Erotic and absorbing...Written with starling power.\"--\"The New York Times Book Review \" Nan King, a...</td>\n",
       "      <td>90fa61229261140a</td>\n",
       "      <td>53.74</td>\n",
       "      <td>£0.00</td>\n",
       "      <td>0</td>\n",
       "      <td><img src=\"https://books.toscrape.com//media/cache/08/e9/08e94f3731d7d6b760dfbfbc02ca5c62.jpg\" width=\"100\" ></td>\n",
       "    </tr>\n",
       "    <tr>\n",
       "      <th>2</th>\n",
       "      <td>Soumission</td>\n",
       "      <td>Fiction</td>\n",
       "      <td>50.10</td>\n",
       "      <td>In stock</td>\n",
       "      <td>20 available</td>\n",
       "      <td>Dans une France assez proche de la nÃ´tre, un homme sâengage dans la carriÃ¨re universitaire. Peu ...</td>\n",
       "      <td>6957f44c3847a760</td>\n",
       "      <td>50.10</td>\n",
       "      <td>£0.00</td>\n",
       "      <td>0</td>\n",
       "      <td><img src=\"https://books.toscrape.com//media/cache/ee/cf/eecfe998905e455df12064dba399c075.jpg\" width=\"100\" ></td>\n",
       "    </tr>\n",
       "    <tr>\n",
       "      <th>3</th>\n",
       "      <td>Sharp Objects</td>\n",
       "      <td>Mystery</td>\n",
       "      <td>47.82</td>\n",
       "      <td>In stock</td>\n",
       "      <td>20 available</td>\n",
       "      <td>WICKED above her hipbone, GIRL across her heart Words are like a road map to reporter Camille Preake...</td>\n",
       "      <td>e00eb4fd7b871a48</td>\n",
       "      <td>47.82</td>\n",
       "      <td>£0.00</td>\n",
       "      <td>0</td>\n",
       "      <td><img src=\"https://books.toscrape.com//media/cache/c0/59/c05972805aa7201171b8fc71a5b00292.jpg\" width=\"100\" ></td>\n",
       "    </tr>\n",
       "    <tr>\n",
       "      <th>4</th>\n",
       "      <td>Sapiens: A Brief History of Humankind</td>\n",
       "      <td>History</td>\n",
       "      <td>54.23</td>\n",
       "      <td>In stock</td>\n",
       "      <td>20 available</td>\n",
       "      <td>From a renowned historian comes a groundbreaking narrative of humanityâs creation and evolutionâ...</td>\n",
       "      <td>4165285e1663650f</td>\n",
       "      <td>54.23</td>\n",
       "      <td>£0.00</td>\n",
       "      <td>0</td>\n",
       "      <td><img src=\"https://books.toscrape.com//media/cache/ce/5f/ce5f052c65cc963cf4422be096e915c9.jpg\" width=\"100\" ></td>\n",
       "    </tr>\n",
       "    <tr>\n",
       "      <th>5</th>\n",
       "      <td>The Requiem Red</td>\n",
       "      <td>Young Adult</td>\n",
       "      <td>22.65</td>\n",
       "      <td>In stock</td>\n",
       "      <td>19 available</td>\n",
       "      <td>Patient Twenty-nine.A monster roams the halls of Soothing Hills Asylum. Three girls dead. 29 is endo...</td>\n",
       "      <td>f77dbf2323deb740</td>\n",
       "      <td>22.65</td>\n",
       "      <td>£0.00</td>\n",
       "      <td>0</td>\n",
       "      <td><img src=\"https://books.toscrape.com//media/cache/6b/07/6b07b77236b7c80f42bd90bf325e69f6.jpg\" width=\"100\" ></td>\n",
       "    </tr>\n",
       "    <tr>\n",
       "      <th>6</th>\n",
       "      <td>The Dirty Little Secrets of Getting Your Dream Job</td>\n",
       "      <td>Business</td>\n",
       "      <td>33.34</td>\n",
       "      <td>In stock</td>\n",
       "      <td>19 available</td>\n",
       "      <td>Drawing on his extensive experience evaluating applicants for his marketing agency, and featuring st...</td>\n",
       "      <td>2597b5a345f45e1b</td>\n",
       "      <td>33.34</td>\n",
       "      <td>£0.00</td>\n",
       "      <td>0</td>\n",
       "      <td><img src=\"https://books.toscrape.com//media/cache/e1/1b/e11bea016d0ae1d7e2dd46fb3cb870b7.jpg\" width=\"100\" ></td>\n",
       "    </tr>\n",
       "    <tr>\n",
       "      <th>7</th>\n",
       "      <td>The Coming Woman: A Novel Based on the Life of the Infamous Feminist, Victoria Woodhull</td>\n",
       "      <td>Default</td>\n",
       "      <td>17.93</td>\n",
       "      <td>In stock</td>\n",
       "      <td>19 available</td>\n",
       "      <td>\"If you have a heart, if you have a soul, Karen Hicks' The Coming Woman will make you fall in love w...</td>\n",
       "      <td>e72a5dfc7e9267b2</td>\n",
       "      <td>17.93</td>\n",
       "      <td>£0.00</td>\n",
       "      <td>0</td>\n",
       "      <td><img src=\"https://books.toscrape.com//media/cache/97/36/9736132a43b8e6e3989932218ef309ed.jpg\" width=\"100\" ></td>\n",
       "    </tr>\n",
       "    <tr>\n",
       "      <th>8</th>\n",
       "      <td>The Boys in the Boat: Nine Americans and Their Epic Quest for Gold at the 1936 Berlin Olympics</td>\n",
       "      <td>Default</td>\n",
       "      <td>22.60</td>\n",
       "      <td>In stock</td>\n",
       "      <td>19 available</td>\n",
       "      <td>For readers of Laura Hillenbrand's Seabiscuit and Unbroken, the dramatic story of the American rowin...</td>\n",
       "      <td>e10e1e165dc8be4a</td>\n",
       "      <td>22.60</td>\n",
       "      <td>£0.00</td>\n",
       "      <td>0</td>\n",
       "      <td><img src=\"https://books.toscrape.com//media/cache/d1/2d/d12d26739b5369a6b5b3024e4d08f907.jpg\" width=\"100\" ></td>\n",
       "    </tr>\n",
       "    <tr>\n",
       "      <th>9</th>\n",
       "      <td>The Black Maria</td>\n",
       "      <td>Poetry</td>\n",
       "      <td>52.15</td>\n",
       "      <td>In stock</td>\n",
       "      <td>19 available</td>\n",
       "      <td>Praise for Aracelis Girmay:\"[Girmay's] every lossâshe calls them estrangementsâis a yearning for...</td>\n",
       "      <td>1dfe412b8ac00530</td>\n",
       "      <td>52.15</td>\n",
       "      <td>£0.00</td>\n",
       "      <td>0</td>\n",
       "      <td><img src=\"https://books.toscrape.com//media/cache/d1/7a/d17a3e313e52e1be5651719e4fba1d16.jpg\" width=\"100\" ></td>\n",
       "    </tr>\n",
       "    <tr>\n",
       "      <th>10</th>\n",
       "      <td>Starving Hearts (Triangular Trade Trilogy, #1)</td>\n",
       "      <td>Default</td>\n",
       "      <td>13.99</td>\n",
       "      <td>In stock</td>\n",
       "      <td>19 available</td>\n",
       "      <td>Since her assault, Miss Annette Chetwynd has been plagued by nightmares and worries about an arrange...</td>\n",
       "      <td>0312262ecafa5a40</td>\n",
       "      <td>13.99</td>\n",
       "      <td>£0.00</td>\n",
       "      <td>0</td>\n",
       "      <td><img src=\"https://books.toscrape.com//media/cache/a0/7e/a07ed8f1c23f7b4baf7102722680bd30.jpg\" width=\"100\" ></td>\n",
       "    </tr>\n",
       "    <tr>\n",
       "      <th>11</th>\n",
       "      <td>Shakespeare's Sonnets</td>\n",
       "      <td>Poetry</td>\n",
       "      <td>20.66</td>\n",
       "      <td>In stock</td>\n",
       "      <td>19 available</td>\n",
       "      <td>This book is an important and complete collection of the Sonnets of William Shakespeare. Most reader...</td>\n",
       "      <td>30a7f60cd76ca58c</td>\n",
       "      <td>20.66</td>\n",
       "      <td>£0.00</td>\n",
       "      <td>0</td>\n",
       "      <td><img src=\"https://books.toscrape.com//media/cache/4d/7a/4d7a79a8be80a529b277ed5c4d8ba482.jpg\" width=\"100\" ></td>\n",
       "    </tr>\n",
       "    <tr>\n",
       "      <th>12</th>\n",
       "      <td>Set Me Free</td>\n",
       "      <td>Young Adult</td>\n",
       "      <td>17.46</td>\n",
       "      <td>In stock</td>\n",
       "      <td>19 available</td>\n",
       "      <td>Aaron Ledbetterâs future had been planned out for him since before he was born. Each year, the Led...</td>\n",
       "      <td>ce6396b0f23f6ecc</td>\n",
       "      <td>17.46</td>\n",
       "      <td>£0.00</td>\n",
       "      <td>0</td>\n",
       "      <td><img src=\"https://books.toscrape.com//media/cache/b8/e9/b8e91bd2fc74c3954118999238abb4b8.jpg\" width=\"100\" ></td>\n",
       "    </tr>\n",
       "    <tr>\n",
       "      <th>13</th>\n",
       "      <td>Scott Pilgrim's Precious Little Life (Scott Pilgrim #1)</td>\n",
       "      <td>Sequential Art</td>\n",
       "      <td>52.29</td>\n",
       "      <td>In stock</td>\n",
       "      <td>19 available</td>\n",
       "      <td>Scott Pilgrim's life is totally sweet. He's 23 years old, he's in a rockband, he's \"between jobs\" an...</td>\n",
       "      <td>3b1c02bac2a429e6</td>\n",
       "      <td>52.29</td>\n",
       "      <td>£0.00</td>\n",
       "      <td>0</td>\n",
       "      <td><img src=\"https://books.toscrape.com//media/cache/97/27/97275841c81e66d53bf9313cba06f23e.jpg\" width=\"100\" ></td>\n",
       "    </tr>\n",
       "    <tr>\n",
       "      <th>14</th>\n",
       "      <td>Rip it Up and Start Again</td>\n",
       "      <td>Music</td>\n",
       "      <td>35.02</td>\n",
       "      <td>In stock</td>\n",
       "      <td>19 available</td>\n",
       "      <td>Punk's raw power rejuvenated rock, but by the summer of 1977 the movement had become a parody of its...</td>\n",
       "      <td>a34ba96d4081e6a4</td>\n",
       "      <td>35.02</td>\n",
       "      <td>£0.00</td>\n",
       "      <td>0</td>\n",
       "      <td><img src=\"https://books.toscrape.com//media/cache/81/7f/817f5089c0e6e62738dce2931e7323d3.jpg\" width=\"100\" ></td>\n",
       "    </tr>\n",
       "    <tr>\n",
       "      <th>15</th>\n",
       "      <td>Our Band Could Be Your Life: Scenes from the American Indie Underground, 1981-1991</td>\n",
       "      <td>Music</td>\n",
       "      <td>57.25</td>\n",
       "      <td>In stock</td>\n",
       "      <td>19 available</td>\n",
       "      <td>This is the never-before-told story of the musical revolution that happened right under the nose of ...</td>\n",
       "      <td>deda3e61b9514b83</td>\n",
       "      <td>57.25</td>\n",
       "      <td>£0.00</td>\n",
       "      <td>0</td>\n",
       "      <td><img src=\"https://books.toscrape.com//media/cache/ad/96/ad96e9c9f1664cbcb0e9627b007fb6f9.jpg\" width=\"100\" ></td>\n",
       "    </tr>\n",
       "    <tr>\n",
       "      <th>16</th>\n",
       "      <td>Olio</td>\n",
       "      <td>Poetry</td>\n",
       "      <td>23.88</td>\n",
       "      <td>In stock</td>\n",
       "      <td>19 available</td>\n",
       "      <td>Part fact, part fiction, Tyehimba Jess's much anticipated second book weaves sonnet, song, and narra...</td>\n",
       "      <td>feb7cc7701ecf901</td>\n",
       "      <td>23.88</td>\n",
       "      <td>£0.00</td>\n",
       "      <td>0</td>\n",
       "      <td><img src=\"https://books.toscrape.com//media/cache/b1/0e/b10eabab1e1c811a6d47969904fd5755.jpg\" width=\"100\" ></td>\n",
       "    </tr>\n",
       "    <tr>\n",
       "      <th>17</th>\n",
       "      <td>Mesaerion: The Best Science Fiction Stories 1800-1849</td>\n",
       "      <td>Science Fiction</td>\n",
       "      <td>37.59</td>\n",
       "      <td>In stock</td>\n",
       "      <td>19 available</td>\n",
       "      <td>Andrew Barger, award-winning author and engineer, has extensively researched forgotten journals and ...</td>\n",
       "      <td>e30f54cea9b38190</td>\n",
       "      <td>37.59</td>\n",
       "      <td>£0.00</td>\n",
       "      <td>0</td>\n",
       "      <td><img src=\"https://books.toscrape.com//media/cache/e8/1f/e81f850db9b9622c65619c9f15748de7.jpg\" width=\"100\" ></td>\n",
       "    </tr>\n",
       "    <tr>\n",
       "      <th>18</th>\n",
       "      <td>Libertarianism for Beginners</td>\n",
       "      <td>Politics</td>\n",
       "      <td>51.33</td>\n",
       "      <td>In stock</td>\n",
       "      <td>19 available</td>\n",
       "      <td>Libertarianism isn't about winning elections; it is first and foremost a political philosophy--a des...</td>\n",
       "      <td>a18a4f574854aced</td>\n",
       "      <td>51.33</td>\n",
       "      <td>£0.00</td>\n",
       "      <td>0</td>\n",
       "      <td><img src=\"https://books.toscrape.com//media/cache/91/a4/91a46253e165d144ef5938f2d456b88f.jpg\" width=\"100\" ></td>\n",
       "    </tr>\n",
       "    <tr>\n",
       "      <th>19</th>\n",
       "      <td>It's Only the Himalayas</td>\n",
       "      <td>Travel</td>\n",
       "      <td>45.17</td>\n",
       "      <td>In stock</td>\n",
       "      <td>19 available</td>\n",
       "      <td>âWherever you go, whatever you do, just . . . donât do anything stupid.â âMy MotherDuring he...</td>\n",
       "      <td>a22124811bfa8350</td>\n",
       "      <td>45.17</td>\n",
       "      <td>£0.00</td>\n",
       "      <td>0</td>\n",
       "      <td><img src=\"https://books.toscrape.com//media/cache/6d/41/6d418a73cc7d4ecfd75ca11d854041db.jpg\" width=\"100\" ></td>\n",
       "    </tr>\n",
       "  </tbody>\n",
       "</table>"
      ],
      "text/plain": [
       "<IPython.core.display.HTML object>"
      ]
     },
     "metadata": {},
     "output_type": "display_data"
    }
   ],
   "source": [
    "df['Descripcion'] = df['Descripcion'].apply(lambda x: x[:100] + '...' if len(x) > 100 else x)\n",
    "mostrar_html(df)"
   ]
  }
 ],
 "metadata": {
  "kernelspec": {
   "display_name": "gamma",
   "language": "python",
   "name": "python3"
  },
  "language_info": {
   "codemirror_mode": {
    "name": "ipython",
    "version": 3
   },
   "file_extension": ".py",
   "mimetype": "text/x-python",
   "name": "python",
   "nbconvert_exporter": "python",
   "pygments_lexer": "ipython3",
   "version": "3.12.4"
  }
 },
 "nbformat": 4,
 "nbformat_minor": 2
}
